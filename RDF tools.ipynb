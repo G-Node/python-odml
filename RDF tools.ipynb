{
 "cells": [
  {
   "cell_type": "markdown",
   "metadata": {},
   "source": [
    "# What is Semantic Web and RDF?"
   ]
  },
  {
   "cell_type": "markdown",
   "metadata": {},
   "source": [
    "**RDF (Resource Description Framework)** is one of the three foundational [Semantic Web](https://en.wikipedia.org/wiki/Semantic_Web) technologies, the other two being SPARQL and OWL.\n",
    "\n",
    "In particular, RDF is the data model of the Semantic Web. That means that all data in Semantic Web technologies is represented as RDF. If you store Semantic Web data, it's in RDF. If you query Semantic Web data (typically using SPARQL), it's RDF data. If you send Semantic Web data to your friend, it's RDF.\n",
    "\n",
    "RDF data model is based upon the idea of making statements about resources (in particular web resources) in the form of *subject–predicate–object* expressions, known as [*triples*](https://en.wikipedia.org/wiki/Semantic_triple). The *subject* denotes the resource, and the *predicate* denotes traits or aspects of the resource, and expresses a relationship between the *subject* and the *object*.\n",
    "\n",
    "For example, one way to represent the notion \"The sky has the color blue\" in RDF is as the triple: a **subject** denoting *\"the sky\"*, a **predicate** denoting *\"has the color\"*, and an **object** denoting *\"blue\"*. Therefore, RDF uses subject instead of object(or entity) in contrast to the typical approach of an entity–attribute–value model in object-oriented design: entity (sky), attribute (color), and value (blue)."
   ]
  },
  {
   "cell_type": "markdown",
   "metadata": {},
   "source": [
    "![Image](http://dublincore.org/documents/2008/01/14/dc-rdf/rdfexamplefig.png)"
   ]
  },
  {
   "cell_type": "markdown",
   "metadata": {},
   "source": [
    "Find out more: <br>\n",
    "- http://fast.wistia.net/embed/iframe/8nm9xf4jip?popover=true <br>\n",
    "- https://en.wikipedia.org/wiki/Resource_Description_Framework <br>\n",
    "- https://www.cambridgesemantics.com/semantic-university/rdf-101 <br>\n",
    "- http://www.cambridgesemantics.com/semantic-university/introduction-semantic-web-0"
   ]
  },
  {
   "cell_type": "markdown",
   "metadata": {
    "collapsed": true
   },
   "source": [
    "# RDF<->odML converter"
   ]
  },
  {
   "cell_type": "markdown",
   "metadata": {},
   "source": [
    "Here we will explore RDF-odML and odML-RDF conversion in `odml/tools/rdf_converter.py` module."
   ]
  },
  {
   "cell_type": "markdown",
   "metadata": {},
   "source": [
    "Let's create the example odML document."
   ]
  },
  {
   "cell_type": "code",
   "execution_count": 4,
   "metadata": {
    "collapsed": true
   },
   "outputs": [],
   "source": [
    "import odml\n",
    "import datetime\n",
    "\n",
    "doc = odml.Document(author=\"D. N. Adams\",\n",
    "                    date=datetime.date(1979, 10, 12))\n",
    "\n",
    "# CREATE AND APPEND THE MAIN SECTIONs\n",
    "doc.append(odml.Section(name=\"Arthur Philip Dent\",\n",
    "                           type=\"crew/person\",\n",
    "                           definition=\"Information on Arthur Dent\"))\n",
    "\n",
    "# SET NEW PARENT NODE\n",
    "parent = doc['Arthur Philip Dent']\n",
    "\n",
    "\n",
    "# APPEND PROPERTIES WITH VALUES\n",
    "parent.append(odml.Property(name=\"Species\",\n",
    "                            value=\"Human\",\n",
    "                            dtype=odml.DType.string,\n",
    "                            definition=\"Species to which subject belongs to\"))"
   ]
  },
  {
   "cell_type": "markdown",
   "metadata": {},
   "source": [
    "##RDFWriter class"
   ]
  },
  {
   "cell_type": "markdown",
   "metadata": {},
   "source": [
    "RDFWriter class is used for conversion documents from odML to one of the supported RDF formats:<br>\n",
    "'xml', 'pretty-xml', 'trix', 'n3', 'turtle', 'ttl', 'ntriples', 'nt', 'nt11', 'trig', 'json-ld'.<br>\n",
    "Both one document or list of multiple documents can be passed to `RDFWriter()` constructor.\n",
    "\n",
    "It's possible to get the output as a string."
   ]
  },
  {
   "cell_type": "code",
   "execution_count": 5,
   "metadata": {},
   "outputs": [
    {
     "name": "stdout",
     "output_type": "stream",
     "text": [
      "@prefix odml: <https://g-node.org/projects/odml-rdf#> .\n",
      "@prefix rdf: <http://www.w3.org/1999/02/22-rdf-syntax-ns#> .\n",
      "@prefix rdfs: <http://www.w3.org/2000/01/rdf-schema#> .\n",
      "@prefix xml: <http://www.w3.org/XML/1998/namespace> .\n",
      "@prefix xsd: <http://www.w3.org/2001/XMLSchema#> .\n",
      "\n",
      "odml:Hub odml:hasDocument odml:db131aa9-c7ef-4df1-8b59-d538e7064917 .\n",
      "\n",
      "<https://g-node.org/projects/odml-rdf#634a1560-60e4-4cc0-9123-7358583eac1e> a odml:Section ;\n",
      "    odml:hasDefinition \"Information on Arthur Dent\" ;\n",
      "    odml:hasName \"Arthur Philip Dent\" ;\n",
      "    odml:hasProperty <https://g-node.org/projects/odml-rdf#6aee580d-6dbb-4a43-ad26-f8cba4722981> ;\n",
      "    odml:hasType \"crew/person\" .\n",
      "\n",
      "<https://g-node.org/projects/odml-rdf#6aee580d-6dbb-4a43-ad26-f8cba4722981> a odml:Property ;\n",
      "    odml:hasDefinition \"Species to which subject belongs to\" ;\n",
      "    odml:hasDtype \"string\" ;\n",
      "    odml:hasName \"Species\" ;\n",
      "    odml:hasValue odml:c7fa3b54-7b1b-4a43-9fa9-d6213f79cfe1 .\n",
      "\n",
      "odml:c7fa3b54-7b1b-4a43-9fa9-d6213f79cfe1 a rdf:Bag ;\n",
      "    rdf:li \"Human\" .\n",
      "\n",
      "odml:db131aa9-c7ef-4df1-8b59-d538e7064917 a odml:Document ;\n",
      "    odml:hasAuthor \"D. N. Adams\" ;\n",
      "    odml:hasDate \"1979-10-12\"^^xsd:date ;\n",
      "    odml:hasSection <https://g-node.org/projects/odml-rdf#634a1560-60e4-4cc0-9123-7358583eac1e> .\n",
      "\n",
      "\n"
     ]
    }
   ],
   "source": [
    "from odml.tools.rdf_converter import RDFWriter\n",
    "\n",
    "print(RDFWriter(doc).get_rdf_str('turtle'))"
   ]
  },
  {
   "cell_type": "markdown",
   "metadata": {},
   "source": [
    "Or write the output to the specified file."
   ]
  },
  {
   "cell_type": "code",
   "execution_count": 17,
   "metadata": {},
   "outputs": [
    {
     "name": "stdout",
     "output_type": "stream",
     "text": [
      "@prefix odml: <https://g-node.org/projects/odml-rdf#> .\n",
      "@prefix rdf: <http://www.w3.org/1999/02/22-rdf-syntax-ns#> .\n",
      "@prefix rdfs: <http://www.w3.org/2000/01/rdf-schema#> .\n",
      "@prefix xml: <http://www.w3.org/XML/1998/namespace> .\n",
      "@prefix xsd: <http://www.w3.org/2001/XMLSchema#> .\n",
      "\n",
      "odml:Hub odml:hasDocument odml:db131aa9-c7ef-4df1-8b59-d538e7064917 .\n",
      "\n",
      "<https://g-node.org/projects/odml-rdf#634a1560-60e4-4cc0-9123-7358583eac1e> a odml:Section ;\n",
      "    odml:hasDefinition \"Information on Arthur Dent\" ;\n",
      "    odml:hasName \"Arthur Philip Dent\" ;\n",
      "    odml:hasProperty <https://g-node.org/projects/odml-rdf#6aee580d-6dbb-4a43-ad26-f8cba4722981> ;\n",
      "    odml:hasType \"crew/person\" .\n",
      "\n",
      "<https://g-node.org/projects/odml-rdf#6aee580d-6dbb-4a43-ad26-f8cba4722981> a odml:Property ;\n",
      "    odml:hasDefinition \"Species to which subject belongs to\" ;\n",
      "    odml:hasDtype \"string\" ;\n",
      "    odml:hasName \"Species\" ;\n",
      "    odml:hasValue odml:f52e8f94-8dcc-40db-b346-a539681fe463 .\n",
      "\n",
      "odml:db131aa9-c7ef-4df1-8b59-d538e7064917 a odml:Document ;\n",
      "    odml:hasAuthor \"D. N. Adams\" ;\n",
      "    odml:hasDate \"1979-10-12\"^^xsd:date ;\n",
      "    odml:hasSection <https://g-node.org/projects/odml-rdf#634a1560-60e4-4cc0-9123-7358583eac1e> .\n",
      "\n",
      "odml:f52e8f94-8dcc-40db-b346-a539681fe463 a rdf:Bag ;\n",
      "    rdf:li \"Human\" .\n",
      "\n",
      "\n"
     ]
    }
   ],
   "source": [
    "import tempfile\n",
    "import os\n",
    "\n",
    "# Create temporary file\n",
    "f = tempfile.NamedTemporaryFile(mode='w', suffix=\".ttl\")\n",
    "path = f.name\n",
    "\n",
    "# possible to use 'ttl' instead of 'turtle'\n",
    "RDFWriter(doc).write_file(path, \"ttl\")\n",
    "\n",
    "with open(path) as ff:\n",
    "    data = ff.read()\n",
    "    print(data)\n",
    "\n",
    "f.close()"
   ]
  },
  {
   "cell_type": "markdown",
   "metadata": {},
   "source": [
    "##RDFReader class"
   ]
  },
  {
   "cell_type": "markdown",
   "metadata": {
    "collapsed": true
   },
   "source": [
    "RDFReader class enables RDF to odML conversion.\n",
    "\n",
    "There are 2 ways to obtain objects with converted odML documents:\n",
    "- from **RDF file**  ( `RDFReader().from_file(\"/path_to_input_rdf\", \"rdf_format\")` )\n",
    "- from **RDF string**  ( `RDFReader().from_string(\"rdf file as a string\", \"rdf_format\")` )"
   ]
  },
  {
   "cell_type": "code",
   "execution_count": 10,
   "metadata": {},
   "outputs": [
    {
     "name": "stdout",
     "output_type": "stream",
     "text": [
      "[<Doc None by D. N. Adams (1 sections)>]\n"
     ]
    }
   ],
   "source": [
    "from odml.tools.rdf_converter import RDFReader\n",
    "\n",
    "rdf_file = RDFWriter(doc).get_rdf_str('ttl')\n",
    "odml_doc = RDFReader().from_string(rdf_file, \"ttl\")\n",
    "\n",
    "print(odml_doc)"
   ]
  },
  {
   "cell_type": "code",
   "execution_count": 19,
   "metadata": {},
   "outputs": [
    {
     "name": "stdout",
     "output_type": "stream",
     "text": [
      "[<Doc None by D. N. Adams (1 sections)>]\n"
     ]
    }
   ],
   "source": [
    "# Create temporary file\n",
    "rdf_file = tempfile.NamedTemporaryFile(mode='w', suffix=\".ttl\")\n",
    "rdf_path = rdf_file.name\n",
    "RDFWriter(doc).write_file(rdf_path, \"ttl\")\n",
    "\n",
    "odml_doc = RDFReader().from_file(rdf_path, \"ttl\")\n",
    "\n",
    "print(odml_doc)"
   ]
  },
  {
   "cell_type": "markdown",
   "metadata": {},
   "source": [
    "Another option is to write the output to one or multiple files. <br>\n",
    "`RDFReader().write_file(\"/input_path\", \"rdf_format\", \"/output_path_to_file\")`"
   ]
  },
  {
   "cell_type": "code",
   "execution_count": 21,
   "metadata": {},
   "outputs": [
    {
     "name": "stdout",
     "output_type": "stream",
     "text": [
      "<?xml version=\"1.0\" encoding=\"UTF-8\"?>\n",
      "<?xml-stylesheet  type=\"text/xsl\" href=\"odmlTerms.xsl\"?>\n",
      "<?xml-stylesheet  type=\"text/xsl\" href=\"odml.xsl\"?>\n",
      "<odML version=\"1.1\">\n",
      "  <author>D. N. Adams</author>\n",
      "  <id>db131aa9-c7ef-4df1-8b59-d538e7064917</id>\n",
      "  <date>1979-10-12</date>\n",
      "  <section>\n",
      "    <name>Arthur Philip Dent</name>\n",
      "    <id>634a1560-60e4-4cc0-9123-7358583eac1e</id>\n",
      "    <type>crew/person</type>\n",
      "    <definition>Information on Arthur Dent</definition>\n",
      "    <property>\n",
      "      <name>Species</name>\n",
      "      <id>6aee580d-6dbb-4a43-ad26-f8cba4722981</id>\n",
      "      <type>string</type>\n",
      "      <definition>Species to which subject belongs to</definition>\n",
      "      <value>[Human]</value>\n",
      "    </property>\n",
      "  </section>\n",
      "</odML>\n",
      "\n"
     ]
    }
   ],
   "source": [
    "# If RDF file contains one odML document, specify output path as file\n",
    "odml_file = tempfile.NamedTemporaryFile(mode='w', suffix=\".odml\")\n",
    "odml_path = odml_file.name\n",
    "\n",
    "RDFReader().write_file(rdf_path, \"ttl\", odml_path)\n",
    "\n",
    "with open(odml_path) as ff:\n",
    "    data = ff.read()\n",
    "    print(data)"
   ]
  },
  {
   "cell_type": "markdown",
   "metadata": {
    "collapsed": true
   },
   "source": [
    "If RDF file contains several odML docs, specify output path as a directory.<br>\n",
    "`RDFReader().write_file(\"/input_path\", \"rdf_format\", \"/output_path_to_directory\")`\n",
    "\n",
    "Module creates files in specified directory and writes parsed docs to them.\n",
    "Example of created file: `/<dir_path>/doc_<id>.odml` (`<id>` - id of the document)."
   ]
  }
 ],
 "metadata": {
  "kernelspec": {
   "display_name": "Python 3",
   "language": "python",
   "name": "python3"
  },
  "language_info": {
   "codemirror_mode": {
    "name": "ipython",
    "version": 3
   },
   "file_extension": ".py",
   "mimetype": "text/x-python",
   "name": "python",
   "nbconvert_exporter": "python",
   "pygments_lexer": "ipython3",
   "version": "3.5.2"
  }
 },
 "nbformat": 4,
 "nbformat_minor": 2
}
