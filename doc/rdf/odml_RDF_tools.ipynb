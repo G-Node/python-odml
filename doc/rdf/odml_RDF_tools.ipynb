{
 "cells": [
  {
   "cell_type": "markdown",
   "metadata": {},
   "source": [
    "# What is the Semantic Web and RDF?"
   ]
  },
  {
   "cell_type": "markdown",
   "metadata": {},
   "source": [
    "**RDF (Resource Description Framework)** is one of the three foundational [Semantic Web](https://en.wikipedia.org/wiki/Semantic_Web) technologies, the other two being SPARQL and OWL.\n",
    "\n",
    "In particular, RDF is the data model of the Semantic Web. That means that all data in Semantic Web technologies are represented as RDF. If you store Semantic Web data, it's in RDF. If you query Semantic Web data (typically using the SPARQL query language), it's RDF data. If you send Semantic Web data to your friend, it's RDF.\n",
    "\n",
    "RDF data model is based upon the idea of making statements about resources (in particular web resources) in the form of *subject–predicate–object* expressions, known as [*triples*](https://en.wikipedia.org/wiki/Semantic_triple). The *subject* denotes the resource, and the *predicate* denotes traits or aspects of the resource, and expresses a relationship between the *subject* and the *object*.\n",
    "\n",
    "For example, one way to represent the notion \"The sky has the color blue\" in RDF is as the triple: a **subject** denoting *\"the sky\"*, a **predicate** denoting *\"has the color\"*, and an **object** denoting *\"blue\"*. Therefore, RDF uses subject instead of object(or entity) in contrast to the typical approach of an entity–attribute–value model in object-oriented design: entity (sky), attribute (color), and value (blue).<br>\n",
    "(Resource Description Framework, Wikipedia, 2017)"
   ]
  },
  {
   "cell_type": "markdown",
   "metadata": {},
   "source": [
    "![RDF_example_graph.png](RDF_example_graph.png)"
   ]
  },
  {
   "cell_type": "markdown",
   "metadata": {},
   "source": [
    "Find out more:\n",
    "- https://en.wikipedia.org/wiki/Resource_Description_Framework\n",
    "- https://www.cambridgesemantics.com/blog/semantic-university/learn-rdf/\n"
   ]
  },
  {
   "cell_type": "markdown",
   "metadata": {
    "collapsed": true
   },
   "source": [
    "# odML to RDF converter"
   ]
  },
  {
   "cell_type": "markdown",
   "metadata": {},
   "source": [
    "Here we will explore odML to RDF conversion using the `odml/tools/rdf_converter.py` module.\n",
    "\n",
    "If you are new python odML please read the [tutorial](https://python-odml.readthedocs.io/en/latest/tutorial.html) first to familiarize yourself with odML."
   ]
  },
  {
   "cell_type": "markdown",
   "metadata": {},
   "source": [
    "Let's create the example odML document."
   ]
  },
  {
   "cell_type": "code",
   "execution_count": 18,
   "metadata": {},
   "outputs": [],
   "source": [
    "import datetime\n",
    "\n",
    "import odml\n",
    "\n",
    "doc = odml.Document(author=\"D. N. Adams\", date=datetime.date(1979, 10, 12))\n",
    "\n",
    "# CREATE AND APPEND THE MAIN SECTIONs\n",
    "doc.append(odml.Section(name=\"Arthur Philip Dent\",\n",
    "                        type=\"crew/person\",\n",
    "                        definition=\"Information on Arthur Dent\"))\n",
    "\n",
    "# SET NEW PARENT NODE\n",
    "parent = doc['Arthur Philip Dent']\n",
    "\n",
    "\n",
    "# APPEND PROPERTIES WITH VALUES\n",
    "parent.append(odml.Property(name=\"Species\",\n",
    "                            value=\"Human\",\n",
    "                            dtype=odml.DType.string,\n",
    "                            definition=\"Species to which subject belongs to\"))\n"
   ]
  },
  {
   "cell_type": "markdown",
   "metadata": {},
   "source": [
    "## The RDFWriter class"
   ]
  },
  {
   "cell_type": "markdown",
   "metadata": {},
   "source": [
    "The RDFWriter class is used to convert odML documents to one of the supported RDF formats:<br><br>\n",
    "'xml', 'pretty-xml', 'trix', 'n3', 'turtle', 'ttl', 'ntriples', 'nt', 'nt11', 'trig'.<br>\n",
    "\n",
    "'turtle' is the format that is best suited for storage and human readability which is why we will use it in our tutorial. For cross-tool usage, saving RDF in its 'XML' variant is probably the safest choice.\n",
    "\n",
    "The output can be returned as a string."
   ]
  },
  {
   "cell_type": "code",
   "execution_count": 5,
   "metadata": {},
   "outputs": [
    {
     "name": "stdout",
     "output_type": "stream",
     "text": [
      "@prefix odml: <https://g-node.org/odml-rdf#> .\n",
      "@prefix rdf: <http://www.w3.org/1999/02/22-rdf-syntax-ns#> .\n",
      "@prefix xsd: <http://www.w3.org/2001/XMLSchema#> .\n",
      "\n",
      "odml:Hub odml:hasDocument odml:40797785-2e1a-435e-b905-aeeac2ba2b3e .\n",
      "\n",
      "odml:220489b8-2043-452b-863b-8ba6a4b5e536 a odml:Section ;\n",
      "    odml:hasDefinition \"Information on Arthur Dent\" ;\n",
      "    odml:hasName \"Arthur Philip Dent\" ;\n",
      "    odml:hasProperty odml:40ede84a-650b-4aab-af81-b4136c833e58 ;\n",
      "    odml:hasType \"crew/person\" .\n",
      "\n",
      "odml:40797785-2e1a-435e-b905-aeeac2ba2b3e a odml:Document ;\n",
      "    odml:hasAuthor \"D. N. Adams\" ;\n",
      "    odml:hasDate \"1979-10-12\"^^xsd:date ;\n",
      "    odml:hasFileName \"None\" ;\n",
      "    odml:hasSection odml:220489b8-2043-452b-863b-8ba6a4b5e536 .\n",
      "\n",
      "odml:40ede84a-650b-4aab-af81-b4136c833e58 a odml:Property ;\n",
      "    odml:hasDefinition \"Species to which subject belongs to\" ;\n",
      "    odml:hasDtype \"string\" ;\n",
      "    odml:hasName \"Species\" ;\n",
      "    odml:hasValue odml:4425ade2-5d03-4484-a272-764c1e933933 .\n",
      "\n",
      "odml:4425ade2-5d03-4484-a272-764c1e933933 a rdf:Seq ;\n",
      "    rdf:_1 \"Human\" .\n",
      "\n",
      "\n"
     ]
    }
   ],
   "source": [
    "from odml.tools.rdf_converter import RDFWriter\n",
    "\n",
    "print(RDFWriter(doc).get_rdf_str('turtle'))\n"
   ]
  },
  {
   "cell_type": "markdown",
   "metadata": {},
   "source": [
    "Or the output can be written to a specified file."
   ]
  },
  {
   "cell_type": "code",
   "execution_count": 3,
   "metadata": {},
   "outputs": [
    {
     "name": "stdout",
     "output_type": "stream",
     "text": [
      "@prefix odml: <https://g-node.org/odml-rdf#> .\n",
      "@prefix rdf: <http://www.w3.org/1999/02/22-rdf-syntax-ns#> .\n",
      "@prefix xsd: <http://www.w3.org/2001/XMLSchema#> .\n",
      "\n",
      "odml:Hub odml:hasDocument odml:08f8c7fa-4ea0-4512-8927-ff73c117644d .\n",
      "\n",
      "odml:08f8c7fa-4ea0-4512-8927-ff73c117644d a odml:Document ;\n",
      "    odml:hasAuthor \"D. N. Adams\" ;\n",
      "    odml:hasDate \"1979-10-12\"^^xsd:date ;\n",
      "    odml:hasFileName \"None\" ;\n",
      "    odml:hasSection odml:3c86174b-b183-47aa-9e0b-58dfc066a76d .\n",
      "\n",
      "odml:15eb4c32-73fe-4da1-8cba-3fac965d4d17 a odml:Property ;\n",
      "    odml:hasDefinition \"Species to which subject belongs to\" ;\n",
      "    odml:hasDtype \"string\" ;\n",
      "    odml:hasName \"Species\" ;\n",
      "    odml:hasValue odml:1ad9c2d6-6055-465b-b281-51943569338b .\n",
      "\n",
      "odml:1ad9c2d6-6055-465b-b281-51943569338b a rdf:Seq ;\n",
      "    rdf:_1 \"Human\" .\n",
      "\n",
      "odml:3c86174b-b183-47aa-9e0b-58dfc066a76d a odml:Section ;\n",
      "    odml:hasDefinition \"Information on Arthur Dent\" ;\n",
      "    odml:hasName \"Arthur Philip Dent\" ;\n",
      "    odml:hasProperty odml:15eb4c32-73fe-4da1-8cba-3fac965d4d17 ;\n",
      "    odml:hasType \"crew/person\" .\n",
      "\n",
      "\n"
     ]
    }
   ],
   "source": [
    "import tempfile\n",
    "\n",
    "# Create temporary file\n",
    "f = tempfile.NamedTemporaryFile(mode='w', suffix=\".ttl\")\n",
    "path = f.name\n",
    "\n",
    "RDFWriter(doc).write_file(path, \"turtle\")\n",
    "\n",
    "with open(path) as ff:\n",
    "    data = ff.read()\n",
    "    print(data)\n"
   ]
  },
  {
   "cell_type": "markdown",
   "metadata": {},
   "source": [
    "Please note at this point, that RDF does not respect order. Everytime an unchanged file is written, the content will be identical, but the order of the statements will differ."
   ]
  },
  {
   "cell_type": "markdown",
   "metadata": {},
   "source": [
    "## Quering the data with rdflib and SPARQL"
   ]
  },
  {
   "cell_type": "markdown",
   "metadata": {},
   "source": [
    "The following example depends on specific example files. If you do not already have these files\\ you can find and download them from https://github.com/G-Node/python-odml/tree/master/doc/example_rdfs/example_data.\n",
    "\n",
    "The example will load RDF triples from multiple files and load them into a single, connected graph."
   ]
  },
  {
   "cell_type": "code",
   "execution_count": 10,
   "metadata": {},
   "outputs": [
    {
     "name": "stdout",
     "output_type": "stream",
     "text": [
      "Total number of triples:  3041\n"
     ]
    }
   ],
   "source": [
    "from glob import glob\n",
    "\n",
    "from rdflib import Graph\n",
    "\n",
    "graph = Graph()\n",
    "for file_name in glob(\"odml_RDF_example_*.ttl\"):\n",
    "    graph.parse(file_name, format=\"turtle\")\n",
    "\n",
    "print('Total number of triples: ', len(graph))\n"
   ]
  },
  {
   "cell_type": "markdown",
   "metadata": {},
   "source": [
    "The example query uses an rdflib tool to find each Section with type `Recording` also featuring a Property with the name `Recording duration`. The result prints the Values of the returned Properties."
   ]
  },
  {
   "cell_type": "code",
   "execution_count": 19,
   "metadata": {},
   "outputs": [
    {
     "name": "stdout",
     "output_type": "stream",
     "text": [
      "Doc: https://g-node.org/odml-rdf#cc66e78a-3742-490a-9fdb-1c66761d7652, Sec: https://g-node.org/odml-rdf#5365f7e5-603c-4154-a5ea-33bb1a07a956, \n",
      "Prop: https://g-node.org/odml-rdf#41316903-80f1-45a3-9b06-400a02903531, Val:11.25\n",
      "Doc: https://g-node.org/odml-rdf#cd24b60f-1d5e-4040-9881-5e5a597baef7, Sec: https://g-node.org/odml-rdf#782bd29d-e4b0-4c14-a417-1772a4851ffd, \n",
      "Prop: https://g-node.org/odml-rdf#9aeede78-678c-4db8-acb5-fbd6d408b762, Val:13.9\n",
      "Doc: https://g-node.org/odml-rdf#537c6cc8-7dfe-4d53-a111-24b3ce0f3c1a, Sec: https://g-node.org/odml-rdf#346773f2-abee-4892-b052-840ddcff35ee, \n",
      "Prop: https://g-node.org/odml-rdf#1636af03-8e97-4ef2-9d7d-6c7db23dcd02, Val:11.88\n",
      "Doc: https://g-node.org/odml-rdf#24066355-1ee8-4eb5-a715-96bbb6231cd5, Sec: https://g-node.org/odml-rdf#bbd44815-5016-49e0-9f4b-5b83778d00de, \n",
      "Prop: https://g-node.org/odml-rdf#0ed215a2-5d20-48eb-b744-bf3b731459fc, Val:0.33\n"
     ]
    }
   ],
   "source": [
    "from rdflib import Graph, Namespace, RDF\n",
    "from rdflib.plugins.sparql import prepareQuery\n",
    "\n",
    "from odml.tools.rdf_converter import ODML_NS\n",
    "\n",
    "rdf_namespace = {\"odml\": ODML_NS, \"rdf\": RDF}\n",
    "\n",
    "q = prepareQuery(\"\"\"SELECT ?d ?s ?p ?value WHERE {\n",
    "    ?d odml:hasSection ?s .\n",
    "    ?s rdf:type odml:Section .\n",
    "    ?s odml:hasType \"Recording\" .\n",
    "    ?s odml:hasProperty ?p .\n",
    "    ?p rdf:type odml:Property .\n",
    "    ?p odml:hasName \"Recording duration\" .\n",
    "    ?p odml:hasValue ?v .\n",
    "    ?v rdf:type rdf:Bag .\n",
    "    ?v rdf:li ?value .}\"\"\", initNs=rdf_namespace)\n",
    "\n",
    "for row in graph.query(q):\n",
    "    print(\"Doc: {0}, Sec: {1}, \\n\"\n",
    "          \"Prop: {2}, Val:{3}\".format(row.d, row.s, row.p, row.value))\n"
   ]
  },
  {
   "cell_type": "markdown",
   "metadata": {},
   "source": [
    "## FuzzyFinder class"
   ]
  },
  {
   "cell_type": "markdown",
   "metadata": {},
   "source": [
    "**FuzzyFinder** is a tool for querying an RDF graph through so called *fuzzy* queries. The finder executes multiple queries to better match input parameters. It returns sets of triples and prioritized from more to fewer matched parameters.\n",
    "\n",
    "The function `find()` accepts several oprtional parameters.\n",
    "- `graph`: rdflib graph object\n",
    "- `q_str`: fuzzy query string, we explore it later\n",
    "- `q_params`: dict object with parameters of a query\n",
    "- `mode`: default 'fuzzy' and 'match'\n",
    "\n",
    "Each mode works with specific a type of fuzzy query (`q_str`).\n",
    "\n",
    "Let's check the `match` mode in an example."
   ]
  },
  {
   "cell_type": "code",
   "execution_count": 13,
   "metadata": {},
   "outputs": [
    {
     "name": "stdout",
     "output_type": "stream",
     "text": [
      "SELECT * WHERE {\n",
      "?d odml:hasSection ?s .\n",
      "?s rdf:type odml:Section .\n",
      "?s odml:hasType \"Recording\" .\n",
      "?s odml:hasProperty ?p .\n",
      "?p rdf:type odml:Property .\n",
      "?p odml:hasName \"Date\" .\n",
      "}\n",
      "Document: https://g-node.org/odml-rdf#cc66e78a-3742-490a-9fdb-1c66761d7652\n",
      "Section: https://g-node.org/odml-rdf#5365f7e5-603c-4154-a5ea-33bb1a07a956\n",
      "Property: https://g-node.org/odml-rdf#f1699eb6-4cab-4dd0-9327-120eab2089ae\n",
      "Document: https://g-node.org/odml-rdf#24066355-1ee8-4eb5-a715-96bbb6231cd5\n",
      "Section: https://g-node.org/odml-rdf#bbd44815-5016-49e0-9f4b-5b83778d00de\n",
      "Property: https://g-node.org/odml-rdf#fadffec7-6b23-454e-bfd1-9d5884802abb\n",
      "Document: https://g-node.org/odml-rdf#537c6cc8-7dfe-4d53-a111-24b3ce0f3c1a\n",
      "Section: https://g-node.org/odml-rdf#346773f2-abee-4892-b052-840ddcff35ee\n",
      "Property: https://g-node.org/odml-rdf#138f08f7-23c7-4722-8577-85a6fa633ae1\n",
      "Document: https://g-node.org/odml-rdf#cd24b60f-1d5e-4040-9881-5e5a597baef7\n",
      "Section: https://g-node.org/odml-rdf#782bd29d-e4b0-4c14-a417-1772a4851ffd\n",
      "Property: https://g-node.org/odml-rdf#1d6db4ce-87f3-4e9c-b221-e76ba05b2759\n",
      "\n",
      "SELECT * WHERE {\n",
      "?d odml:hasSection ?s .\n",
      "?s rdf:type odml:Section .\n",
      "?s odml:hasName \"Recording-2013-02-08-ak\" .\n",
      "?s odml:hasType \"Recording\" .\n",
      "}\n",
      "Document: https://g-node.org/odml-rdf#537c6cc8-7dfe-4d53-a111-24b3ce0f3c1a\n",
      "Section: https://g-node.org/odml-rdf#346773f2-abee-4892-b052-840ddcff35ee\n",
      "\n",
      "SELECT * WHERE {\n",
      "?s odml:hasProperty ?p .\n",
      "?p rdf:type odml:Property .\n",
      "?p odml:hasName \"Date\" .\n",
      "}\n",
      "Section: https://g-node.org/odml-rdf#bbd44815-5016-49e0-9f4b-5b83778d00de\n",
      "Property: https://g-node.org/odml-rdf#fadffec7-6b23-454e-bfd1-9d5884802abb\n",
      "Section: https://g-node.org/odml-rdf#782bd29d-e4b0-4c14-a417-1772a4851ffd\n",
      "Property: https://g-node.org/odml-rdf#1d6db4ce-87f3-4e9c-b221-e76ba05b2759\n",
      "Section: https://g-node.org/odml-rdf#5365f7e5-603c-4154-a5ea-33bb1a07a956\n",
      "Property: https://g-node.org/odml-rdf#f1699eb6-4cab-4dd0-9327-120eab2089ae\n",
      "Section: https://g-node.org/odml-rdf#346773f2-abee-4892-b052-840ddcff35ee\n",
      "Property: https://g-node.org/odml-rdf#138f08f7-23c7-4722-8577-85a6fa633ae1\n",
      "\n",
      "SELECT * WHERE {\n",
      "?d odml:hasSection ?s .\n",
      "?s rdf:type odml:Section .\n",
      "?s odml:hasName \"Recording-2013-02-08-ak\" .\n",
      "}\n",
      "Document: https://g-node.org/odml-rdf#537c6cc8-7dfe-4d53-a111-24b3ce0f3c1a\n",
      "Section: https://g-node.org/odml-rdf#346773f2-abee-4892-b052-840ddcff35ee\n",
      "\n",
      "SELECT * WHERE {\n",
      "?d odml:hasSection ?s .\n",
      "?s rdf:type odml:Section .\n",
      "?s odml:hasType \"Recording\" .\n",
      "}\n",
      "Document: https://g-node.org/odml-rdf#cc66e78a-3742-490a-9fdb-1c66761d7652\n",
      "Section: https://g-node.org/odml-rdf#5365f7e5-603c-4154-a5ea-33bb1a07a956\n",
      "Document: https://g-node.org/odml-rdf#24066355-1ee8-4eb5-a715-96bbb6231cd5\n",
      "Section: https://g-node.org/odml-rdf#bbd44815-5016-49e0-9f4b-5b83778d00de\n",
      "Document: https://g-node.org/odml-rdf#537c6cc8-7dfe-4d53-a111-24b3ce0f3c1a\n",
      "Section: https://g-node.org/odml-rdf#346773f2-abee-4892-b052-840ddcff35ee\n",
      "Document: https://g-node.org/odml-rdf#cd24b60f-1d5e-4040-9881-5e5a597baef7\n",
      "Section: https://g-node.org/odml-rdf#782bd29d-e4b0-4c14-a417-1772a4851ffd\n",
      "\n",
      "\n"
     ]
    }
   ],
   "source": [
    "from odml.rdf.fuzzy_finder import FuzzyFinder\n",
    "\n",
    "query_string = 'prop(name:Date) section(name:Recording-2013-02-08-ak, type:Recording)'\n",
    "\n",
    "f = FuzzyFinder(graph)\n",
    "print(f.find(mode='match', q_str=query_string))"
   ]
  },
  {
   "cell_type": "markdown",
   "metadata": {},
   "source": [
    "As you can see from the output, the finder builds multiple SPARQL queries from `match` queries, executes them and returns some matched results. The first result always represents the most specific query (the biggest combination of input parameters that returned at least one triple).\n",
    "\n",
    "The query syntax is pretty straightforward. Just write the name of the entity `property`, `section` or `document` (also possible to use shortened names `prop`, `sec` and `doc`) and add attributes with their values inside the parentheses separated by a colon.\n",
    "\n",
    "As a code example: `prop(name:Date) section(name:Recording-2013-02-08-ak, type:Recording)`.\n",
    "Here we search for Sections and Properties where `property` has attribute the `name` and its Value is `Date`.\n",
    "\n",
    "For building `match` queries you should know exactly to which odML attribute the value(subject) is related. If you write `prop(name:Date) section(name:Recording, type:Recording-2013-02-08-ak)` the `find()` method would not return any triples with Section parameters, because it is unlikely that there is a Section with type `Recording-2013-02-08-ak`.\n",
    "\n",
    "Non-odML entity attributes will also be ignored (e.g. only `id, author, date, version, repository, sections` can exist in the `Document` object).\n",
    "In the example `section(not-odml-name:Recording-2013-02-08-ak, record:Recording)` the `find` method returns nothing."
   ]
  },
  {
   "cell_type": "code",
   "execution_count": 14,
   "metadata": {},
   "outputs": [
    {
     "name": "stdout",
     "output_type": "stream",
     "text": [
      "\n"
     ]
    }
   ],
   "source": [
    "from odml.rdf.fuzzy_finder import FuzzyFinder\n",
    "\n",
    "query_string = 'section(not-odml-name:Recording-2013-02-08-ak, record:Recording)'\n",
    "\n",
    "f = FuzzyFinder(graph)\n",
    "print(f.find(mode='match', q_str=query_string))"
   ]
  },
  {
   "cell_type": "markdown",
   "metadata": {},
   "source": [
    "This is often inconvenient if you do not know exactly how the diverse data in the graph is related. For situations like this *'fuzzy'* mode comes into play. It is also set by default.\n",
    "\n",
    "The output logic is similar to the previous mode, but there you can provide more broad information, the finder will match the parameters and create meaningful queries based on the input.\n",
    "\n",
    "The query string consists of two parts: *FIND* and *HAVING*.\n",
    "\n",
    "In the *FIND* part a user specifies the set of odML objects and its attributes. \n",
    "e.g. `FIND prop(name) section(name, type)`\n",
    "\n",
    "In the *HAVING* part a user specifies a set of search values which could relate to the attributes in the *FIND* part.\n",
    "e.g `HAVING Recording, Recording-2012-04-04-ab, Date`\n",
    "\n",
    "Finally, the complete query will look like this:\n",
    "`FIND sec(name, type) prop(name) HAVING Recording, Recording-2012-04-04-ab, Date`\n",
    "\n",
    "As you can see in the example you do not need to know to which attribute search values in the *HAVING* part relate to, the finder can do it for you."
   ]
  },
  {
   "cell_type": "code",
   "execution_count": 17,
   "metadata": {},
   "outputs": [
    {
     "name": "stdout",
     "output_type": "stream",
     "text": [
      "SELECT * WHERE {\n",
      "?d odml:hasSection ?s .\n",
      "?s rdf:type odml:Section .\n",
      "?s odml:hasType \"Recording\" .\n",
      "?s odml:hasProperty ?p .\n",
      "?p rdf:type odml:Property .\n",
      "?p odml:hasName \"Date\" .\n",
      "}\n",
      "Document: https://g-node.org/odml-rdf#cc66e78a-3742-490a-9fdb-1c66761d7652\n",
      "Section: https://g-node.org/odml-rdf#5365f7e5-603c-4154-a5ea-33bb1a07a956\n",
      "Property: https://g-node.org/odml-rdf#f1699eb6-4cab-4dd0-9327-120eab2089ae\n",
      "Document: https://g-node.org/odml-rdf#24066355-1ee8-4eb5-a715-96bbb6231cd5\n",
      "Section: https://g-node.org/odml-rdf#bbd44815-5016-49e0-9f4b-5b83778d00de\n",
      "Property: https://g-node.org/odml-rdf#fadffec7-6b23-454e-bfd1-9d5884802abb\n",
      "Document: https://g-node.org/odml-rdf#537c6cc8-7dfe-4d53-a111-24b3ce0f3c1a\n",
      "Section: https://g-node.org/odml-rdf#346773f2-abee-4892-b052-840ddcff35ee\n",
      "Property: https://g-node.org/odml-rdf#138f08f7-23c7-4722-8577-85a6fa633ae1\n",
      "Document: https://g-node.org/odml-rdf#cd24b60f-1d5e-4040-9881-5e5a597baef7\n",
      "Section: https://g-node.org/odml-rdf#782bd29d-e4b0-4c14-a417-1772a4851ffd\n",
      "Property: https://g-node.org/odml-rdf#1d6db4ce-87f3-4e9c-b221-e76ba05b2759\n",
      "\n",
      "SELECT * WHERE {\n",
      "?d odml:hasSection ?s .\n",
      "?s rdf:type odml:Section .\n",
      "?s odml:hasName \"Recording\" .\n",
      "?s odml:hasType \"Recording\" .\n",
      "}\n",
      "Document: https://g-node.org/odml-rdf#cd24b60f-1d5e-4040-9881-5e5a597baef7\n",
      "Section: https://g-node.org/odml-rdf#782bd29d-e4b0-4c14-a417-1772a4851ffd\n",
      "\n",
      "SELECT * WHERE {\n",
      "?s odml:hasProperty ?p .\n",
      "?p rdf:type odml:Property .\n",
      "?p odml:hasName \"Date\" .\n",
      "}\n",
      "Section: https://g-node.org/odml-rdf#bbd44815-5016-49e0-9f4b-5b83778d00de\n",
      "Property: https://g-node.org/odml-rdf#fadffec7-6b23-454e-bfd1-9d5884802abb\n",
      "Section: https://g-node.org/odml-rdf#782bd29d-e4b0-4c14-a417-1772a4851ffd\n",
      "Property: https://g-node.org/odml-rdf#1d6db4ce-87f3-4e9c-b221-e76ba05b2759\n",
      "Section: https://g-node.org/odml-rdf#5365f7e5-603c-4154-a5ea-33bb1a07a956\n",
      "Property: https://g-node.org/odml-rdf#f1699eb6-4cab-4dd0-9327-120eab2089ae\n",
      "Section: https://g-node.org/odml-rdf#346773f2-abee-4892-b052-840ddcff35ee\n",
      "Property: https://g-node.org/odml-rdf#138f08f7-23c7-4722-8577-85a6fa633ae1\n",
      "\n",
      "SELECT * WHERE {\n",
      "?d odml:hasSection ?s .\n",
      "?s rdf:type odml:Section .\n",
      "?s odml:hasName \"Recording\" .\n",
      "}\n",
      "Document: https://g-node.org/odml-rdf#cd24b60f-1d5e-4040-9881-5e5a597baef7\n",
      "Section: https://g-node.org/odml-rdf#782bd29d-e4b0-4c14-a417-1772a4851ffd\n",
      "\n",
      "SELECT * WHERE {\n",
      "?d odml:hasSection ?s .\n",
      "?s rdf:type odml:Section .\n",
      "?s odml:hasType \"Recording\" .\n",
      "}\n",
      "Document: https://g-node.org/odml-rdf#cc66e78a-3742-490a-9fdb-1c66761d7652\n",
      "Section: https://g-node.org/odml-rdf#5365f7e5-603c-4154-a5ea-33bb1a07a956\n",
      "Document: https://g-node.org/odml-rdf#24066355-1ee8-4eb5-a715-96bbb6231cd5\n",
      "Section: https://g-node.org/odml-rdf#bbd44815-5016-49e0-9f4b-5b83778d00de\n",
      "Document: https://g-node.org/odml-rdf#537c6cc8-7dfe-4d53-a111-24b3ce0f3c1a\n",
      "Section: https://g-node.org/odml-rdf#346773f2-abee-4892-b052-840ddcff35ee\n",
      "Document: https://g-node.org/odml-rdf#cd24b60f-1d5e-4040-9881-5e5a597baef7\n",
      "Section: https://g-node.org/odml-rdf#782bd29d-e4b0-4c14-a417-1772a4851ffd\n",
      "\n",
      "\n"
     ]
    }
   ],
   "source": [
    "from odml.rdf.fuzzy_finder import FuzzyFinder\n",
    "\n",
    "query_string = 'FIND sec(name, type) prop(name) HAVING Recording, Recording-2012-04-04-ab, Date, Some_value'\n",
    "\n",
    "f = FuzzyFinder(graph)\n",
    "print(f.find(mode='fuzzy', q_str=query_string))\n"
   ]
  },
  {
   "cell_type": "code",
   "execution_count": null,
   "metadata": {},
   "outputs": [],
   "source": []
  }
 ],
 "metadata": {
  "kernelspec": {
   "display_name": "Python 3",
   "language": "python",
   "name": "python3"
  },
  "language_info": {
   "codemirror_mode": {
    "name": "ipython",
    "version": 3
   },
   "file_extension": ".py",
   "mimetype": "text/x-python",
   "name": "python",
   "nbconvert_exporter": "python",
   "pygments_lexer": "ipython3",
   "version": "3.8.1"
  }
 },
 "nbformat": 4,
 "nbformat_minor": 1
}
